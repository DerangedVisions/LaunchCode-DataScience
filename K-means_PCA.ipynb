{
 "cells": [
  {
   "cell_type": "markdown",
   "metadata": {},
   "source": [
    "## Programming Exercise 7: _K_-means Clustering and Principal Component Analysis"
   ]
  },
  {
   "cell_type": "code",
   "execution_count": 1,
   "metadata": {},
   "outputs": [],
   "source": [
    "%matplotlib inline\n",
    "import numpy as np\n",
    "import matplotlib.pyplot as plt\n",
    "import scipy.io #Used to load the OCTAVE *.mat files\n",
    "import imageio #Used to load the image files\n",
    "from random import sample #Used for random initialization\n",
    "import scipy.misc #Used to show matrix as an image\n",
    "import matplotlib.cm as cm #Used to display images in a specific colormap\n",
    "from scipy import linalg #Used for the \"SVD\" function\n",
    "from PIL import Image # Used for creating an image from an array"
   ]
  },
  {
   "cell_type": "markdown",
   "metadata": {},
   "source": [
    "### 1 _K_-means Clustering\n",
    "#### 1.1 Implementing _K_-means\n",
    "##### 1.1.1 Finding closest centroids"
   ]
  },
  {
   "cell_type": "code",
   "execution_count": 30,
   "metadata": {
    "scrolled": true
   },
   "outputs": [],
   "source": [
    "#Read in ex7data2.mac\n",
    "mat = scipy.io.loadmat('ex7data2')\n",
    "X = mat['X']\n",
    "\n",
    "#X is 300 points, each has two coordinates\n",
    "#IE the shape is (300,2)"
   ]
  },
  {
   "cell_type": "code",
   "execution_count": 18,
   "metadata": {},
   "outputs": [],
   "source": [
    "#Choose the number of centroids... K = 3\n",
    "K = 3\n",
    "#Choose the initial centroids matching ex7.m assignment script\n",
    "initial_centroids = np.array([[3,3],[6,2],[8,5]])"
   ]
  },
  {
   "cell_type": "code",
   "execution_count": 46,
   "metadata": {},
   "outputs": [],
   "source": [
    "#Visualizing the data\n",
    "def plotData(myX,mycentroids,myidxs = 5):\n",
    "\n",
    "    \"\"\"\n",
    "    Fucntion to plot the data and color it accordingly.\n",
    "    myidxs should be the latest iteraction index vector\n",
    "    mycentroids should be a vector of centroids, one per iteration\n",
    "    \"\"\"\n",
    "    \n",
    "    colors = ['b','g','gold','darkorange','salmon','olivedrab']\n",
    "    \n",
    "    assert myX[0].shape == mycentroids[0][0].shape\n",
    "    assert mycentroids[-1].shape[0] <= len(colors)\n",
    "\n",
    "    #If idxs is supplied, divide up X into colors\n",
    "    ## Keep the None here!! \n",
    "    if myidxs is not None:\n",
    "        assert myidxs.shape[0] == myX.shape[0]\n",
    "        subX = []\n",
    "        for x in range(mycentroids[0].shape[0]):\n",
    "            subX.append(np.array([myX[i] for i in range(myX.shape[0]) if myidxs[i] == x]))\n",
    "    else:\n",
    "        subX = [myX]\n",
    "        \n",
    "    fig = plt.figure(figsize=(7,5))\n",
    "    for x in range(len(subX)):\n",
    "        newX = subX[x]\n",
    "        plt.plot(newX[:,0],newX[:,1],'o',color=colors[x],\n",
    "                 alpha=0.75, label='Data Points: Cluster %d'%x)\n",
    "    plt.xlabel('x1',fontsize=14)\n",
    "    plt.ylabel('x2',fontsize=14)\n",
    "    plt.title('Plot of X Points',fontsize=16)\n",
    "    plt.grid(True)\n",
    "\n",
    "    #Drawing a history of centroid movement\n",
    "    tempx, tempy = [], []\n",
    "    for mycentroid in mycentroids:\n",
    "        tempx.append(mycentroid[:,0])\n",
    "        tempy.append(mycentroid[:,1])\n",
    "    \n",
    "    for x in range(len(tempx[0])):\n",
    "        plt.plot(tempx, tempy, 'rx--', markersize=8)\n",
    "\n",
    "    leg = plt.legend(loc=4, framealpha=0.5)"
   ]
  },
  {
   "cell_type": "code",
   "execution_count": 49,
   "metadata": {},
   "outputs": [
    {
     "data": {
      "text/plain": [
       "[<matplotlib.lines.Line2D at 0x1caa61a4470>]"
      ]
     },
     "execution_count": 49,
     "metadata": {},
     "output_type": "execute_result"
    },
    {
     "data": {
      "image/png": "[encoded data removed]",
      "text/plain": [
       "<matplotlib.figure.Figure at 0x1caa5f42358>"
      ]
     },
     "metadata": {},
     "output_type": "display_data"
    }
   ],
   "source": [
    "## Call plotData here!!\n",
    "plt.plot(mat['X'][:,0], mat['X'][:,1], 'bo')"
   ]
  },
  {
   "cell_type": "code",
   "execution_count": 6,
   "metadata": {},
   "outputs": [],
   "source": [
    "def distSquared(point1, point2):\n",
    "    assert point1.shape == point2.shape\n",
    "    return centroids"
   ]
  },
  {
   "cell_type": "code",
   "execution_count": 52,
   "metadata": {},
   "outputs": [],
   "source": [
    "def findClosestCentroids(myX, mycentroids):\n",
    "    \"\"\"\n",
    "    Function takes in the (m,n) X matrix\n",
    "    (where m is the # of points, n is # of features per point)\n",
    "    and the (K,n) centroid seed matrix\n",
    "    (where K is the # of centroids (clusters)\n",
    "    and returns a (m,1) vector of cluster indices \n",
    "    per point in X (0 through K-1)\n",
    "    \"\"\"\n",
    "    idxs = np.zeros((m, 1))\n",
    "    \n",
    "    #Loop through each data point in X\n",
    "    for x in range(m):\n",
    "        mypoint = \n",
    "        #Compare this point to each centroid,\n",
    "        #Keep track of shortest distance and index of shortest distance\n",
    "        mindist, idx = 9999999, 0\n",
    "        for i in range(mycentroids.shape[0]):\n",
    "            mycentroid = None\n",
    "            distsquared = None\n",
    "            if None < None:\n",
    "                mindist = None\n",
    "                idx = None\n",
    "        #With the best index found, modify the result idx vector\n",
    "        idxs[x] = None\n",
    "        \n",
    "    return idxs"
   ]
  },
  {
   "cell_type": "code",
   "execution_count": 8,
   "metadata": {
    "scrolled": false
   },
   "outputs": [
    {
     "ename": "TypeError",
     "evalue": "'NoneType' object is not subscriptable",
     "output_type": "error",
     "traceback": [
      "\u001b[1;31m---------------------------------------------------------------------------\u001b[0m",
      "\u001b[1;31mTypeError\u001b[0m                                 Traceback (most recent call last)",
      "\u001b[1;32m<ipython-input-8-f74d07256453>\u001b[0m in \u001b[0;36m<module>\u001b[1;34m()\u001b[0m\n\u001b[0;32m      4\u001b[0m \u001b[1;31m#centroid assignments for the first 3 examples.\u001b[0m\u001b[1;33m\u001b[0m\u001b[1;33m\u001b[0m\u001b[0m\n\u001b[0;32m      5\u001b[0m \u001b[1;31m#Note my indices start at 0, so I should see [0, 2, 1]\u001b[0m\u001b[1;33m\u001b[0m\u001b[1;33m\u001b[0m\u001b[0m\n\u001b[1;32m----> 6\u001b[1;33m \u001b[0mprint\u001b[0m\u001b[1;33m(\u001b[0m\u001b[0midxs\u001b[0m\u001b[1;33m[\u001b[0m\u001b[1;33m:\u001b[0m\u001b[1;36m3\u001b[0m\u001b[1;33m]\u001b[0m\u001b[1;33m.\u001b[0m\u001b[0mflatten\u001b[0m\u001b[1;33m(\u001b[0m\u001b[1;33m)\u001b[0m\u001b[1;33m)\u001b[0m\u001b[1;33m\u001b[0m\u001b[0m\n\u001b[0m",
      "\u001b[1;31mTypeError\u001b[0m: 'NoneType' object is not subscriptable"
     ]
    }
   ],
   "source": [
    "idxs = None\n",
    "\n",
    "#you should see the output [1 3 2] corresponding to the \n",
    "#centroid assignments for the first 3 examples.\n",
    "#Note my indices start at 0, so I should see [0, 2, 1]\n",
    "print(idxs[:3].flatten())"
   ]
  },
  {
   "cell_type": "code",
   "execution_count": null,
   "metadata": {},
   "outputs": [],
   "source": [
    "plotData(None,None,None)"
   ]
  },
  {
   "cell_type": "markdown",
   "metadata": {},
   "source": [
    "##### 1.1.2 Computing centroid means"
   ]
  },
  {
   "cell_type": "code",
   "execution_count": null,
   "metadata": {},
   "outputs": [],
   "source": [
    "def computeCentroids(myX, myidxs):\n",
    "    \"\"\"\n",
    "    Function takes in the X matrix and the index vector\n",
    "    and computes a new centroid matrix.\n",
    "    \"\"\"\n",
    "    subX = []\n",
    "    for x in range(len(np.unique(myidxs))):\n",
    "        subX.append(np.array([myX[i] for i in range(myX.shape[0]) if myidxs[i] == x]))\n",
    "    return np.array([np.mean(thisX,axis=0) for thisX in subX])"
   ]
  },
  {
   "cell_type": "markdown",
   "metadata": {},
   "source": [
    "#### 1.2 _K_-means on example dataset"
   ]
  },
  {
   "cell_type": "code",
   "execution_count": null,
   "metadata": {},
   "outputs": [],
   "source": [
    "def runKMeans(myX, initial_centroids, K, n_iter):\n",
    "    \"\"\"\n",
    "    Function that actually does the iterations\n",
    "    \"\"\"\n",
    "    centroid_history = []\n",
    "    current_centroids = None\n",
    "    for myiter in range(n_iter):\n",
    "        centroid_history.append(None)\n",
    "        idxs = findClosestCentroids(None,None)\n",
    "        current_centroids = computeCentroids(None,None)\n",
    "        \n",
    "    return idxs, centroid_history"
   ]
  },
  {
   "cell_type": "code",
   "execution_count": null,
   "metadata": {},
   "outputs": [],
   "source": [
    "# Call runKMeans with K = 3, n_iter = 10\n",
    "idxs, centroid_history = None"
   ]
  },
  {
   "cell_type": "code",
   "execution_count": null,
   "metadata": {},
   "outputs": [],
   "source": [
    "plotData(None,None,None)"
   ]
  },
  {
   "cell_type": "markdown",
   "metadata": {},
   "source": [
    "#### 1.3 Random initialization"
   ]
  },
  {
   "cell_type": "code",
   "execution_count": null,
   "metadata": {},
   "outputs": [],
   "source": [
    "def chooseKRandomCentroids(myX, K):\n",
    "    rand_indices = sample(range(0,myX.shape[0]),K)\n",
    "    return np.array([myX[i] for i in rand_indices])    "
   ]
  },
  {
   "cell_type": "code",
   "execution_count": null,
   "metadata": {},
   "outputs": [],
   "source": [
    "#Let's choose random initial centroids and see the resulting \n",
    "#centroid progression plot.. perhaps three times in a row\n",
    "for x in range(3):\n",
    "    # Call runKMeans with K = 3, n_iter = 10\n",
    "    idxs, centroid_history = runKMeans(X,chooseKRandomCentroids(X,K=3),\n",
    "                                       None ,None )\n",
    "    plotData(None,None,None)"
   ]
  },
  {
   "cell_type": "markdown",
   "metadata": {},
   "source": [
    "#### 1.4 Image compression with _K_-means\n",
    "##### 1.4.1 _K_-means on pixels"
   ]
  },
  {
   "cell_type": "code",
   "execution_count": null,
   "metadata": {},
   "outputs": [],
   "source": [
    "datafile = 'data/bird_small.png'\n",
    "\n",
    "# This creates a three-dimensional matrix A whose first two indices \n",
    "# identify a pixel position and whose last index represents red, green, or blue.\n",
    "A = imageio.imread(None)\n",
    "\n",
    "print(\"A shape is\", None)\n",
    "dummy = plt.imshow(None)"
   ]
  },
  {
   "cell_type": "code",
   "execution_count": null,
   "metadata": {},
   "outputs": [],
   "source": [
    "# Note: This cell takes ~1 minute to run\n",
    "\n",
    "# Divide every entry in A by 255 so all values are in the range of 0 to 1\n",
    "A = A / 255.\n",
    "\n",
    "# Unroll the image to shape (16384,3) (16384 is 128*128)\n",
    "A = A.reshape(-1, 3)\n",
    "\n",
    "# Run k-means on this data, forming 16 clusters, with random initialization\n",
    "myK = 16\n",
    "idxs, centroid_history = runKMeans(A,chooseKRandomCentroids(A,myK),\n",
    "                                   myK,n_iter=10)"
   ]
  },
  {
   "cell_type": "code",
   "execution_count": null,
   "metadata": {},
   "outputs": [],
   "source": [
    "# Now I have 16 centroids, each representing a color.\n",
    "# Let's assign an index to each pixel in the original image dictating\n",
    "# which of the 16 colors it should be\n",
    "idxs = findClosestCentroids(A, centroid_history[-1])"
   ]
  },
  {
   "cell_type": "code",
   "execution_count": null,
   "metadata": {},
   "outputs": [],
   "source": [
    "final_centroids = centroid_history[-1]\n",
    "# Now loop through the original image and form a new image\n",
    "# that only has 16 colors in it\n",
    "final_image = np.zeros((idxs.shape[0],3))\n",
    "for x in range(final_image.shape[0]):\n",
    "    final_image[x] = final_centroids[int(idxs[x])]"
   ]
  },
  {
   "cell_type": "code",
   "execution_count": null,
   "metadata": {},
   "outputs": [],
   "source": [
    "# Reshape the original image and the new, final image and draw them\n",
    "# To see what the \"compressed\" image looks like\n",
    "plt.figure()\n",
    "dummy = plt.imshow(A.reshape(128,128,3))\n",
    "plt.figure()\n",
    "dummy = plt.imshow(final_image.reshape(128,128,3))"
   ]
  },
  {
   "cell_type": "markdown",
   "metadata": {},
   "source": [
    "### 2 Principal Component Analysis\n",
    "#### 2.1 Example Dataset"
   ]
  },
  {
   "cell_type": "code",
   "execution_count": null,
   "metadata": {},
   "outputs": [],
   "source": [
    "datafile = 'data/ex7data1.mat'\n",
    "mat = scipy.io.loadmat( None )\n",
    "X = None\n",
    "\n",
    "#Quick plot\n",
    "plt.figure(figsize=(7,5))\n",
    "plot = plt.scatter(None, None, s=30, facecolors='none', edgecolors='b')\n",
    "plt.title(\"Example Dataset\",fontsize=18)\n",
    "plt.grid(True)"
   ]
  },
  {
   "cell_type": "markdown",
   "metadata": {},
   "source": [
    "#### 2.2 Implementing PCA"
   ]
  },
  {
   "cell_type": "code",
   "execution_count": null,
   "metadata": {},
   "outputs": [],
   "source": [
    "def featureNormalize(myX):\n",
    "    #Feature-normalize X, return it\n",
    "    means = np.mean(myX,axis=None)\n",
    "    myX_norm = None\n",
    "    stds  = np.std(myX_norm,axis=None)\n",
    "    myX_norm = None\n",
    "    return means, stds, myX_norm"
   ]
  },
  {
   "cell_type": "code",
   "execution_count": null,
   "metadata": {},
   "outputs": [],
   "source": [
    "def getUSV(myX_norm):\n",
    "    # Compute the covariance matrix\n",
    "    cov_matrix = None\n",
    "    # Run single value decomposition to get the U principal component matrix\n",
    "    U, S, V = scipy.linalg.svd(None, full_matrices = True, compute_uv = True)\n",
    "    return U, S, V"
   ]
  },
  {
   "cell_type": "code",
   "execution_count": null,
   "metadata": {},
   "outputs": [],
   "source": [
    "# Feature normalize\n",
    "means, stds, X_norm = featureNormalize(None)\n",
    "# Run SVD\n",
    "U, S, V = getUSV(None)"
   ]
  },
  {
   "cell_type": "code",
   "execution_count": null,
   "metadata": {},
   "outputs": [],
   "source": [
    "# \"...output the top principal component (eigen- vector) found, \n",
    "# and you should expect to see an output of about [-0.707 -0.707]\"\n",
    "print('Top principal component is ',U[:,0])\n",
    "\n",
    "#Quick plot, now including the principal component\n",
    "plt.figure(figsize=(7,5))\n",
    "plot = plt.scatter(None, None, s=30, facecolors='none', edgecolors='b')\n",
    "plt.title(\"Example Dataset: PCA Eigenvectors Shown\",fontsize=18)\n",
    "plt.xlabel('x1',fontsize=18)\n",
    "plt.ylabel('x2',fontsize=18)\n",
    "plt.grid(True)\n",
    "#To draw the principal component, you draw them starting\n",
    "#at the mean of the data\n",
    "plt.plot([means[0], means[0] + 1.5*S[0]*U[0,0]], \n",
    "         [means[1], means[1] + 1.5*S[0]*U[0,1]],\n",
    "        color='red',linewidth=3,\n",
    "        label='First Principal Component')\n",
    "plt.plot([means[0], means[0] + 1.5*S[1]*U[1,0]], \n",
    "         [means[1], means[1] + 1.5*S[1]*U[1,1]],\n",
    "        color='fuchsia',linewidth=3,\n",
    "        label='Second Principal Component')\n",
    "leg = plt.legend(loc=4)"
   ]
  },
  {
   "cell_type": "markdown",
   "metadata": {},
   "source": [
    "#### 2.3 Dimensionality Reduction with PCA\n",
    "##### 2.3.1 Projecting the data onto the principal components"
   ]
  },
  {
   "cell_type": "code",
   "execution_count": null,
   "metadata": {},
   "outputs": [],
   "source": [
    "def projectData(myX, myU, K):\n",
    "    \"\"\"\n",
    "    Function that computes the reduced data representation when\n",
    "    projecting only on to the top \"K\" eigenvectors\n",
    "    \"\"\"\n",
    "    \n",
    "    #Reduced U is the first \"K\" columns in U\n",
    "    Ureduced = None\n",
    "    z = None\n",
    "    return z"
   ]
  },
  {
   "cell_type": "code",
   "execution_count": null,
   "metadata": {},
   "outputs": [],
   "source": [
    "# \"...project the first example onto the first dimension \n",
    "# \"and you should see a value of about 1.481\"\n",
    "z = projectData(None,None,1)\n",
    "print('Projection of the first example is %0.3f.'%float(z[0]))"
   ]
  },
  {
   "cell_type": "markdown",
   "metadata": {},
   "source": [
    "##### 2.3.2 Reconstructing an approximation of the data"
   ]
  },
  {
   "cell_type": "code",
   "execution_count": null,
   "metadata": {},
   "outputs": [],
   "source": [
    "def recoverData(myZ, myU, K):\n",
    "    Ureduced = None\n",
    "    Xapprox = None \n",
    "    return Xapprox"
   ]
  },
  {
   "cell_type": "code",
   "execution_count": null,
   "metadata": {},
   "outputs": [],
   "source": [
    "X_rec = recoverData(None,None,1)\n",
    "print('Recovered approximation of the first example is ',X_rec[0])"
   ]
  },
  {
   "cell_type": "markdown",
   "metadata": {},
   "source": [
    "##### 2.3.3 Visualizing the projections"
   ]
  },
  {
   "cell_type": "code",
   "execution_count": null,
   "metadata": {},
   "outputs": [],
   "source": [
    "#Quick plot, now drawing projected points to the original points\n",
    "plt.figure(figsize=(7,5))\n",
    "plot = plt.scatter(None, None, s=30, facecolors='none', \n",
    "                   edgecolors='b',label='Original Data Points')\n",
    "plot = plt.scatter(None, None, s=30, facecolors='none', \n",
    "                   edgecolors='r',label='PCA Reduced Data Points')\n",
    "\n",
    "plt.title(\"Example Dataset: Reduced Dimension Points Shown\",fontsize=14)\n",
    "plt.xlabel('x1 [Feature Normalized]',fontsize=14)\n",
    "plt.ylabel('x2 [Feature Normalized]',fontsize=14)\n",
    "plt.grid(True)\n",
    "\n",
    "for x in range(X_norm.shape[0]):\n",
    "    plt.plot([X_norm[x,0],X_rec[x,0]],[X_norm[x,1],X_rec[x,1]],'k--')\n",
    "    \n",
    "leg = plt.legend(loc=4)\n",
    "\n",
    "#Force square axes to make projections look better\n",
    "dummy = plt.xlim((-2.5,2.5))\n",
    "dummy = plt.ylim((-2.5,2.5))"
   ]
  },
  {
   "cell_type": "markdown",
   "metadata": {},
   "source": [
    "#### 2.4 Face Image Dataset"
   ]
  },
  {
   "cell_type": "code",
   "execution_count": null,
   "metadata": {},
   "outputs": [],
   "source": [
    "datafile = 'data/ex7faces.mat'\n",
    "mat = scipy.io.loadmat( None )\n",
    "X = None"
   ]
  },
  {
   "cell_type": "code",
   "execution_count": null,
   "metadata": {},
   "outputs": [],
   "source": [
    "def getDatumImg(row):\n",
    "    \"\"\"\n",
    "    Function that is handed a single np array with shape 1x1032,\n",
    "    crates an image object from it, and returns it\n",
    "    \"\"\"\n",
    "    width, height = 32, 32\n",
    "    square = row.reshape(None, None)\n",
    "    return square.T\n",
    "    \n",
    "def displayData(myX, mynrows = 10, myncols = 10):\n",
    "    \"\"\"\n",
    "    Function that picks the first 100 rows from X, creates an image from each,\n",
    "    then stitches them together into a 10x10 grid of images, and shows it.\n",
    "    \"\"\"\n",
    "    width, height = 32, 32\n",
    "    nrows, ncols = mynrows, myncols\n",
    "\n",
    "    big_picture = np.zeros((height*nrows,width*ncols))\n",
    "    \n",
    "    irow, icol = 0, 0\n",
    "    for idx in range(nrows*ncols):\n",
    "        if icol == ncols:\n",
    "            irow += 1\n",
    "            icol  = 0\n",
    "        iimg = getDatumImg(myX[idx])\n",
    "        big_picture[irow*height:irow*height+iimg.shape[0],icol*width:icol*width+iimg.shape[1]] = iimg\n",
    "        icol += 1\n",
    "    fig = plt.figure(figsize=(10,10))\n",
    "    img = Image.fromarray( big_picture )\n",
    "    plt.imshow(img,cmap = cm.Greys_r)"
   ]
  },
  {
   "cell_type": "code",
   "execution_count": null,
   "metadata": {},
   "outputs": [],
   "source": [
    "displayData(X)"
   ]
  },
  {
   "cell_type": "markdown",
   "metadata": {},
   "source": [
    "##### 2.4.1 PCA on Faces"
   ]
  },
  {
   "cell_type": "code",
   "execution_count": null,
   "metadata": {},
   "outputs": [],
   "source": [
    "# Feature normalize\n",
    "means, stds, X_norm = featureNormalize(None)\n",
    "# Run SVD\n",
    "U, S, V = getUSV(None)"
   ]
  },
  {
   "cell_type": "code",
   "execution_count": null,
   "metadata": {},
   "outputs": [],
   "source": [
    "# Visualize the top 36 eigenvectors found\n",
    "# \"Eigenfaces\" lol\n",
    "displayData(U[:,:36].T,mynrows=6,myncols=6)"
   ]
  },
  {
   "cell_type": "markdown",
   "metadata": {},
   "source": [
    "##### 2.4.2 Dimensionality Reduction"
   ]
  },
  {
   "cell_type": "code",
   "execution_count": null,
   "metadata": {},
   "outputs": [],
   "source": [
    "# Project each image down to 36 dimensions\n",
    "z = projectData(None, None, None)"
   ]
  },
  {
   "cell_type": "code",
   "execution_count": null,
   "metadata": {},
   "outputs": [],
   "source": [
    "# Attempt to recover the original data\n",
    "X_rec = recoverData(None, None, None)"
   ]
  },
  {
   "cell_type": "code",
   "execution_count": null,
   "metadata": {},
   "outputs": [],
   "source": [
    "# Plot the dimension-reduced data\n",
    "displayData(None)"
   ]
  },
  {
   "cell_type": "markdown",
   "metadata": {},
   "source": [
    "#### 2.5 PCA for visualization"
   ]
  },
  {
   "cell_type": "code",
   "execution_count": null,
   "metadata": {},
   "outputs": [],
   "source": [
    "# Here we display the 16 color clusters from before in 2D because a 3D\n",
    "# display (r, g, b) is too cumbersome to look at.\n",
    "# PCA projects the 3D into 2D to visualize.\n",
    "\n",
    "# Recall \"A\" is the original image unrolled, shape (16384, 3)\n",
    "# and \"idxs\" is shape (16384, 1) with entries in [0, 15]\n",
    "#Feature-normalize A, save it as A_norm\n",
    "# Feature normalize\n",
    "means, stds, A_norm = featureNormalize(None)\n",
    "# Run SVD\n",
    "U, S, V = getUSV(None)"
   ]
  },
  {
   "cell_type": "code",
   "execution_count": null,
   "metadata": {},
   "outputs": [],
   "source": [
    "# Use PCA to go from 3->2 dimensions\n",
    "z = projectData(None,None, None)"
   ]
  },
  {
   "cell_type": "code",
   "execution_count": null,
   "metadata": {},
   "outputs": [],
   "source": [
    "# Make the 2D plot\n",
    "subX = []\n",
    "for x in range(len(np.unique(idxs))):\n",
    "    subX.append(np.array([A[i] for i in range(A.shape[0]) if idxs[i] == x]))\n",
    "        \n",
    "fig = plt.figure(figsize=(8,8))\n",
    "for x in range(len(subX)):\n",
    "    newX = subX[x]\n",
    "    plt.plot(newX[:,0],newX[:,1],'.',alpha=0.3)\n",
    "plt.xlabel('z1',fontsize=14)\n",
    "plt.ylabel('z2',fontsize=14)\n",
    "plt.title('PCA Projection Plot',fontsize=16)\n",
    "plt.grid(True)"
   ]
  },
  {
   "cell_type": "code",
   "execution_count": null,
   "metadata": {},
   "outputs": [],
   "source": []
  },
  {
   "cell_type": "code",
   "execution_count": null,
   "metadata": {},
   "outputs": [],
   "source": []
  },
  {
   "cell_type": "code",
   "execution_count": null,
   "metadata": {},
   "outputs": [],
   "source": []
  }
 ],
 "metadata": {
  "kernelspec": {
   "display_name": "Python 3",
   "language": "python",
   "name": "python3"
  },
  "language_info": {
   "codemirror_mode": {
    "name": "ipython",
    "version": 3
   },
   "file_extension": ".py",
   "mimetype": "text/x-python",
   "name": "python",
   "nbconvert_exporter": "python",
   "pygments_lexer": "ipython3",
   "version": "3.6.4"
  }
 },
 "nbformat": 4,
 "nbformat_minor": 2
}
